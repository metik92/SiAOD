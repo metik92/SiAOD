{
  "cells": [
    {
      "cell_type": "markdown",
      "id": "fifteen-sailing",
      "metadata": {
        "id": "fifteen-sailing"
      },
      "source": [
        "# Лабораторная работа №2\n",
        "## Выполнил студент группы бфи2302 Власов Матвей"
      ]
    },
    {
      "cell_type": "markdown",
      "id": "arctic-stocks",
      "metadata": {
        "id": "arctic-stocks"
      },
      "source": [
        "Реализовать следующие структуры данных:\n",
        "  \n",
        "● <b> Стек (stack): </b>  \n",
        "Операции для стека:\n",
        "<i> инициализация, проверка на пустоту, добавление нового элемента в начало, извлечение элемента из начала;  </i>  \n",
        "  \n",
        "● <b> Дек (двусторонняя очередь, deque):  </b>  \n",
        "Операции для дека:\n",
        "<i> инициализация, проверка на пустоту, добавление нового элемента в начало, добавление нового элемента в конец, извлечение элемента из начала, извлечение элемента из конца. </i>  \n",
        "  \n",
        "<i> Разработать программу обработки данных, содержащихся в заранее подготовленном txt-файле, в соответствии с заданиями, применив указанную в задании структуру данных. Результат работы программы вывести на экран и сохранить в отдельном txt-файле. </i>"
      ]
    },
    {
      "cell_type": "markdown",
      "id": "5d7edb08",
      "metadata": {
        "id": "5d7edb08",
        "scrolled": true
      },
      "source": [
        "### Задание №1\n",
        "Отсортировать строки файла, содержащие названия книг, в алфавитном порядке с использованием двух деков."
      ]
    },
    {
      "cell_type": "code",
      "execution_count": 116,
      "id": "17702ade",
      "metadata": {
        "id": "17702ade"
      },
      "outputs": [],
      "source": [
        "from collections import deque\n",
        "\n",
        "class Stack:\n",
        "    def __init__(self):\n",
        "        self.items =[]\n",
        "\n",
        "    def is_empty(self):\n",
        "        return len(self.items) == 0\n",
        "\n",
        "    def push(self, value):\n",
        "        self.items.append(value)\n",
        "\n",
        "    def pop(self):\n",
        "        if not self.is_empty():\n",
        "            return self.items.pop()\n",
        "        return None\n",
        "    \n",
        "    def show(self):\n",
        "        if not self.is_empty():\n",
        "            return (self.items)\n",
        "        else:\n",
        "            return \"empty\"\n",
        "        \n",
        "    def size(self):\n",
        "        return len(self.items)\n",
        "\n"
      ]
    },
    {
      "cell_type": "code",
      "execution_count": 174,
      "id": "37cda0e2",
      "metadata": {},
      "outputs": [],
      "source": [
        "with open (\"text.txt\", \"r\", encoding=\"utf-8\")as file:\n",
        "    lines = [line.strip().replace(\",\",\"\") for line in file if line.strip()]\n",
        "sort = deque()\n",
        "temp = deque()\n",
        "for line in  lines:\n",
        "    while sort and sort[-1].lower()> line.lower():\n",
        "        temp.append(sort.pop())\n",
        "    sort.append(line)\n",
        "    while temp:\n",
        "        sort.append(temp.pop())\n",
        "\n",
        "with open(\"new_text.txt\", \"w\", encoding=\"utf-8\" ) as file:\n",
        "    for i in sort:\n",
        "        file.write(i+\",\"+'\\n')\n",
        "\n"
      ]
    },
    {
      "cell_type": "markdown",
      "id": "49fbd2a0",
      "metadata": {
        "id": "49fbd2a0"
      },
      "source": [
        "### Задание №2\n",
        "Дек содержит последовательность символов для шифровки сообщений. Дан текстовый файл, содержащий зашифрованное сообщение. Пользуясь деком, расшифровать текст.\n",
        "Известно, что при шифровке каждый символ сообщения заменялся следующим за ним в деке по часовой стрелке через один."
      ]
    },
    {
      "cell_type": "code",
      "execution_count": 41,
      "id": "81cab7a8",
      "metadata": {
        "id": "81cab7a8"
      },
      "outputs": [
        {
          "name": "stdout",
          "output_type": "stream",
          "text": [
            "hello world!\n"
          ]
        }
      ],
      "source": [
        "from collections import deque\n",
        "dec = deque(['a', 'b', 'c', 'd', 'e', 'f', 'g', 'h', 'i', 'j', 'k', 'l', 'm','n', 'o', 'p', 'q', 'r', 's', 't', 'u', 'v', 'w', 'x', 'y', 'z'])\n",
        "messege =\"\"\n",
        "with open(\"secret_messege.txt\", \"r\", encoding=\"utf-8\") as file:\n",
        "    lines = [line.strip() for line in file.readlines() if line.strip()]\n",
        "\n",
        "for el in lines:\n",
        "    for char in el:\n",
        "        if char in dec:\n",
        "            index = dec.index(char)\n",
        "            messege += dec[(index - 2)]\n",
        "        else:\n",
        "            messege+=char\n",
        "print(messege)\n",
        "\n",
        "\n"
      ]
    },
    {
      "cell_type": "markdown",
      "id": "c0894f47",
      "metadata": {
        "id": "c0894f47"
      },
      "source": [
        "### Задание №3\n",
        "Даны три стержня и n дисков различного размера. Диски можно надевать на стержни, образуя из них башни. Перенести n дисков со стержня А на стержень С, сохранив их первоначальный порядок. При переносе дисков необходимо соблюдать следующие правила:\n",
        "- на каждом шаге со стержня на стержень переносить только один диск;\n",
        "- диск нельзя помещать на диск меньшего размера;\n",
        "- для промежуточного хранения можно использовать стержень В.\n",
        "Реализовать алгоритм, используя три стека вместо стержней А, В, С. Информация о дисках хранится в исходном файле."
      ]
    },
    {
      "cell_type": "code",
      "execution_count": null,
      "id": "9e91a9d4",
      "metadata": {
        "id": "9e91a9d4"
      },
      "outputs": [
        {
          "name": "stdout",
          "output_type": "stream",
          "text": [
            "[3, 2, 1] \n",
            " empty \n",
            " empty \n",
            "\n",
            "[3, 2] \n",
            " empty \n",
            " [1] \n",
            "\n",
            "[3] \n",
            " [2] \n",
            " [1] \n",
            "\n",
            "[3] \n",
            " [2, 1] \n",
            " empty \n",
            "\n",
            "empty \n",
            " [2, 1] \n",
            " [3] \n",
            "\n",
            "[1] \n",
            " [2] \n",
            " [3] \n",
            "\n",
            "[1] \n",
            " empty \n",
            " [3, 2] \n",
            "\n",
            "empty \n",
            " empty \n",
            " [3, 2, 1]\n"
          ]
        }
      ],
      "source": [
        "with open(\"tower_of_Hanoi.txt\", \"r\", encoding=\"utf-8\") as f:\n",
        "    lines = int(f.read())\n",
        "\n",
        "def Hanoi(n, start, finish):\n",
        "    if n <= 0: \n",
        "        return\n",
        "    temp = 6 - start - finish\n",
        "\n",
        "    Hanoi(n-1,start, temp)\n",
        "    print(A.show(),\"\\n\",B.show(),\"\\n\",C.show(),\"\\n\")\n",
        "    if start == 1 and finish ==2:\n",
        "        B.push(A.pop())\n",
        "    elif start == 1 and finish ==3:\n",
        "        C.push(A.pop())\n",
        "    elif start == 2 and finish ==1:\n",
        "        A.push(B.pop())\n",
        "    elif start == 2 and finish ==3:\n",
        "        C.push(B.pop())\n",
        "    elif start == 3 and finish ==1:\n",
        "        A.push(C.pop())\n",
        "    elif start == 3 and finish ==2:\n",
        "        B.push(C.pop())\n",
        "    \n",
        "    Hanoi (n-1,temp, finish)\n",
        "        \n",
        "A = Stack()\n",
        "B = Stack()\n",
        "C = Stack()\n",
        "for i in range(lines,0,-1):\n",
        "    A.push(i)\n",
        "\n",
        "Hanoi(A.size(),1,3)\n",
        "\n",
        "print(A.show(),\"\\n\",B.show(),\"\\n\",C.show())"
      ]
    },
    {
      "cell_type": "markdown",
      "id": "e5b0be17",
      "metadata": {
        "id": "e5b0be17"
      },
      "source": [
        "### Задание №4\n",
        "Дан текстовый файл с программой на алгоритмическом языке. За один просмотр файла проверить баланс круглых скобок в тексте, используя стек."
      ]
    },
    {
      "cell_type": "code",
      "execution_count": 124,
      "id": "5b1df60a",
      "metadata": {
        "id": "5b1df60a"
      },
      "outputs": [
        {
          "name": "stdout",
          "output_type": "stream",
          "text": [
            "баланс соблюдён\n"
          ]
        }
      ],
      "source": [
        "stack = Stack()\n",
        "with open(\"parentheses.txt\", \"r\", encoding=\"utf-8\") as f:\n",
        "    for line in f:\n",
        "        for i in line:\n",
        "            if i == \"(\":\n",
        "                stack.push(\"(\")\n",
        "            elif i == \")\":\n",
        "                stack.pop()\n",
        "    if stack.is_empty():\n",
        "        print(\"баланс соблюдён\")\n",
        "    else:\n",
        "        print(\"баланс не соблюдён\")"
      ]
    },
    {
      "cell_type": "markdown",
      "id": "c44cdd6b",
      "metadata": {
        "id": "c44cdd6b"
      },
      "source": [
        "### Задание №5\n",
        "Дан текстовый файл с программой на алгоритмическом языке. За один просмотр файла проверить баланс квадратных скобок в тексте, используя дек."
      ]
    },
    {
      "cell_type": "code",
      "execution_count": 126,
      "id": "36b8f400",
      "metadata": {
        "id": "36b8f400"
      },
      "outputs": [
        {
          "name": "stdout",
          "output_type": "stream",
          "text": [
            "баланс не соблюдён\n"
          ]
        }
      ],
      "source": [
        "dec = deque()\n",
        "with open(\"parentheses.txt\", \"r\", encoding=\"utf-8\") as f:\n",
        "    for line in f:\n",
        "        for i in line:\n",
        "            if i == \"[\":\n",
        "                dec.append(\"[\")\n",
        "            elif i == \"]\":\n",
        "                dec.pop()\n",
        "    if not dec:\n",
        "        print(\"баланс соблюдён\")\n",
        "    else:\n",
        "        print(\"баланс не соблюдён\")"
      ]
    },
    {
      "cell_type": "markdown",
      "id": "59d13dc7",
      "metadata": {
        "id": "59d13dc7"
      },
      "source": [
        "### Задание №6\n",
        "Дан файл из символов. Используя стек, за один просмотр файла напечатать сначала все цифры, затем все буквы, и, наконец, все остальные символы, сохраняя исходный порядок в каждой группе символов."
      ]
    },
    {
      "cell_type": "code",
      "execution_count": 137,
      "id": "297e36c2",
      "metadata": {
        "id": "297e36c2"
      },
      "outputs": [
        {
          "name": "stdout",
          "output_type": "stream",
          "text": [
            "['3', '7', '8', '4', '8', '3', '3', '8', '3', '4', '8', '3', '1', '8', '3', '7', '8', '3', '4', '8', '3', '4', '3', '4', '1', '1', '8', '1', '8', '1', '8', '1', '8', '8']\n",
            "['r', 'r', 'g', 'g', 'r', 'g', 'f', 'g', 'f', 'g', 'f', 'f', 'g', 'f', 'f', 'g', 'f', 'g', 'H', 'H', 'H', 'h', 'H', 'h', 'H', 'd', 'f', 'b', 'd', 'i', 'u', 'v', 'b', 'd', 's', 'u', 'v', 'b', 's']\n",
            "['!', '!', '*', '!', '(', '!', '!', ' ', '*', '!', ' ', '*', '!', ' ', '!', ' ', ' ', '!', ')', ' ']\n"
          ]
        }
      ],
      "source": [
        "stack_word = Stack()\n",
        "stack_digital = Stack()\n",
        "stack_another = Stack()\n",
        "with open(\"text_6.txt\", \"r\", encoding=\"utf-8\") as f:\n",
        "    for line in f:\n",
        "        for i in line:\n",
        "            if i.lower() in ['a', 'b', 'c', 'd', 'e', 'f', 'g', 'h', 'i', 'j', 'k', 'l', 'm','n', 'o', 'p', 'q', 'r', 's', 't', 'u', 'v', 'w', 'x', 'y', 'z']:\n",
        "                stack_word.push(i)\n",
        "            elif i in [\"0\",\"1\",\"2\",\"3\",\"4\",\"5\",\"6\",\"7\",\"8\",\"9\"]:\n",
        "                stack_digital.push(i)\n",
        "            else:\n",
        "                stack_another.push(i)\n",
        "    print(stack_digital.show())\n",
        "    print(stack_word.show())\n",
        "    print(stack_another.show())"
      ]
    },
    {
      "cell_type": "markdown",
      "id": "973f68bd",
      "metadata": {
        "id": "973f68bd"
      },
      "source": [
        "### Задание №7\n",
        "Дан файл из целых чисел. Используя дек, за один просмотр файла напечатать сначала все отрицательные числа, затем все положительные числа, сохраняя исходный порядок в каждой группе."
      ]
    },
    {
      "cell_type": "code",
      "execution_count": 166,
      "id": "c56fad66",
      "metadata": {
        "id": "c56fad66"
      },
      "outputs": [
        {
          "name": "stdout",
          "output_type": "stream",
          "text": [
            "['-1213', '-3213', '-5', '-5'] \n",
            " ['123', '6423', '6842368234632846234', '8638746238746236', '424623476346', '664', '64', '6427328', '5', '5', '5']\n"
          ]
        }
      ],
      "source": [
        "dec_positive = deque()\n",
        "dec_negative = deque()\n",
        "def show_deque(deque):\n",
        "    a=[]\n",
        "    while deque:\n",
        "        a.append(deque.pop())\n",
        "    return a[::-1]\n",
        "    \n",
        "with open(\"text_7.txt\", \"r\", encoding=\"utf-8\") as f:\n",
        "    for line in f:\n",
        "        tmp =\"\"\n",
        "        for i in line:\n",
        "            if i != \" \":\n",
        "                tmp+=i\n",
        "            else:\n",
        "                if tmp[0] == \"-\":\n",
        "                    dec_negative.append(tmp)\n",
        "                    tmp=\"\"\n",
        "                else:\n",
        "                    dec_positive.append(tmp)\n",
        "                    tmp=\"\"\n",
        "    print(show_deque(dec_negative),\"\\n\",show_deque(dec_positive) )\n",
        "    \n",
        "    \n",
        "        "
      ]
    },
    {
      "cell_type": "markdown",
      "id": "b9228191",
      "metadata": {
        "id": "b9228191"
      },
      "source": [
        "### Задание №8\n",
        "Дан текстовый файл. Используя стек, сформировать новый текстовый файл, содержащий строки исходного файла, записанные в обратном порядке: первая строка становится последней, вторая – предпоследней и т.д."
      ]
    },
    {
      "cell_type": "code",
      "execution_count": null,
      "id": "981fbdfe",
      "metadata": {
        "id": "981fbdfe"
      },
      "outputs": [
        {
          "name": "stdout",
          "output_type": "stream",
          "text": [
            "['привет', 'пока', 'я', 'молодец', 'привет мир']\n",
            "привет мир\n",
            "молодец\n",
            "я\n",
            "пока\n",
            "привет\n"
          ]
        }
      ],
      "source": [
        "stack = Stack()\n",
        "with open(\"text_8.txt\", 'r', encoding='utf-8') as f:\n",
        "    for line in f:\n",
        "        stack.push(line.strip())\n",
        "\n",
        "with open(\"text_8_answer.txt\", 'w', encoding='utf-8') as f:\n",
        "    while not stack.is_empty():\n",
        "        i = stack.pop()\n",
        "        print(i)\n",
        "        f.write(f\"{i}\\n\") \n"
      ]
    },
    {
      "cell_type": "markdown",
      "id": "rental-jerusalem",
      "metadata": {
        "id": "rental-jerusalem"
      },
      "source": [
        "### Вывод\n"
      ]
    },
    {
      "cell_type": "markdown",
      "id": "0c2b8899",
      "metadata": {
        "id": "0c2b8899"
      },
      "source": []
    }
  ],
  "metadata": {
    "colab": {
      "provenance": []
    },
    "kernelspec": {
      "display_name": "Python 3",
      "language": "python",
      "name": "python3"
    },
    "language_info": {
      "codemirror_mode": {
        "name": "ipython",
        "version": 3
      },
      "file_extension": ".py",
      "mimetype": "text/x-python",
      "name": "python",
      "nbconvert_exporter": "python",
      "pygments_lexer": "ipython3",
      "version": "3.12.3"
    }
  },
  "nbformat": 4,
  "nbformat_minor": 5
}
