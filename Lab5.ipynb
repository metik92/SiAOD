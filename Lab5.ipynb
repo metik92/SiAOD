{
 "cells": [
  {
   "cell_type": "markdown",
   "id": "annual-symbol",
   "metadata": {
    "id": "annual-symbol"
   },
   "source": [
    "### Оглавление\n",
    "1. [Задание 1](#Задание-№1)\n",
    "2. [Задание 2](#Задание-№2)\n",
    "4. [Вывод](#Вывод)"
   ]
  },
  {
   "cell_type": "markdown",
   "id": "independent-spirit",
   "metadata": {
    "id": "independent-spirit"
   },
   "source": [
    "> Дополнительные модули, использованные при выполнение лабораторной"
   ]
  },
  {
   "cell_type": "code",
   "execution_count": null,
   "id": "4839be2b",
   "metadata": {
    "id": "4839be2b"
   },
   "outputs": [],
   "source": [
    "# Необходим при замере скорости выполнения кода\n",
    "from datetime import datetime as t\n",
    "# Нужен для создания словаря в алг. Бойера-Мура\n",
    "from collections import defaultdict"
   ]
  },
  {
   "cell_type": "markdown",
   "id": "inclusive-motorcycle",
   "metadata": {
    "id": "inclusive-motorcycle"
   },
   "source": [
    "### Задание №1\n",
    "Реализовать методы поиска подстроки в строке. Добавить возможность ввода строки и подстроки с клавиатуры. Предусмотреть возможность существования пробела. Реализовать возможность выбора опции чувствительности или нечувствительности к регистру. Оценить время работы каждого алгоритма поиска и сравнить его со временем работы стандартной функции поиска, используемой в выбранном языке программирования."
   ]
  },
  {
   "cell_type": "markdown",
   "id": "interracial-communication",
   "metadata": {
    "id": "interracial-communication"
   },
   "source": [
    "#### Алгоритм Кнута-Морриса-Пратта"
   ]
  },
  {
   "cell_type": "code",
   "execution_count": 1,
   "id": "presidential-level",
   "metadata": {
    "id": "presidential-level"
   },
   "outputs": [
    {
     "name": "stdout",
     "output_type": "stream",
     "text": [
      "Подстрока найдена в позиции [5] в строке.\n",
      "Время выполнения: 0:00:00.001199\n"
     ]
    }
   ],
   "source": [
    "from datetime import datetime as t\n",
    "\n",
    "def build_prefix_table(pattern): # Построение префикс таблицы\n",
    "    prefix_table = [0] * len(pattern)\n",
    "    j = 0\n",
    "    for i in range(1, len(pattern)):\n",
    "        while j > 0 and pattern[i] != pattern[j]:\n",
    "            j = prefix_table[j - 1]\n",
    "        if pattern[i] == pattern[j]:\n",
    "            j += 1\n",
    "        prefix_table[i] = j\n",
    "    return prefix_table\n",
    "\n",
    "def kmp_search(text, pattern):\n",
    "    prefix_table = build_prefix_table(pattern) # Построить префикс таблицу для подстроки\n",
    "    n = len(text) # Длина строки\n",
    "    m = len(pattern) # Длина подстроки\n",
    "    if m == 0:\n",
    "        return []\n",
    "    q = 0  # Количество совпавших символов\n",
    "    result = []\n",
    "    for i in range(n):\n",
    "        while q > 0 and pattern[q] != text[i]:\n",
    "            q = prefix_table[q-1]\n",
    "        if pattern[q] == text[i]:\n",
    "            q += 1\n",
    "        if q == m:\n",
    "            # Найдено вхождение\n",
    "            result.append(i - m + 1)\n",
    "            # Продолжаем поиск следующих вхождений\n",
    "            q = prefix_table[q - 1]\n",
    "    \n",
    "    return result\n",
    "\n",
    "text = input(\"Введите строку: \")\n",
    "pattern = input(\"Введите подстроку: \")\n",
    "sensitive = input(\"Учитывать регистр? (да/нет): \")\n",
    "if sensitive.lower() == \"нет\":\n",
    "    text.lower()\n",
    "    pattern.lower()\n",
    "\n",
    "def out(index,start_time):\n",
    "    if index != -1:\n",
    "        print(f\"Подстрока найдена в позиции {index} в строке.\")\n",
    "    else:\n",
    "        print(\"Подстрока не найдена в строке.\")\n",
    "    time = t.now() - start_time\n",
    "    print(f\"Время выполнения: {time}\")\n",
    "\n",
    "start_time = t.now()\n",
    "index = kmp_search(text, pattern)\n",
    "out(index,start_time)"
   ]
  },
  {
   "cell_type": "markdown",
   "id": "downtown-option",
   "metadata": {
    "id": "downtown-option"
   },
   "source": [
    "#### Упрощенный алгоритм Бойера-Мура"
   ]
  },
  {
   "cell_type": "code",
   "execution_count": 2,
   "id": "respective-reggae",
   "metadata": {
    "id": "respective-reggae"
   },
   "outputs": [
    {
     "name": "stdout",
     "output_type": "stream",
     "text": [
      "Подстрока найдена в позициях: [0, 4]\n",
      "Время выполнения: 0.00021900 сек\n"
     ]
    }
   ],
   "source": [
    "from datetime import datetime as t\n",
    "from collections import defaultdict\n",
    "\n",
    "def build_shift_table(pattern):\n",
    "    m = len(pattern)\n",
    "    table = defaultdict(lambda: m)\n",
    "    for i in range(m - 1):\n",
    "        table[pattern[i]] = m - i - 1\n",
    "    return table\n",
    "\n",
    "def boyer_moore_search(text, pattern):\n",
    "    n = len(text)\n",
    "    m = len(pattern)\n",
    "    if m == 0:\n",
    "        return []\n",
    "    \n",
    "    shift_table = build_shift_table(pattern)\n",
    "    result = []\n",
    "    i = 0\n",
    "\n",
    "    while i <= n - m:\n",
    "        j = m - 1\n",
    "        while j >= 0 and pattern[j] == text[i + j]:\n",
    "            j -= 1\n",
    "        if j < 0:\n",
    "            result.append(i)\n",
    "            i += m\n",
    "        else:\n",
    "            i += shift_table[text[i + m - 1]]\n",
    "    return result\n",
    "\n",
    "text = input(\"Введите строку: \")\n",
    "pattern = input(\"Введите подстроку: \")\n",
    "sensitive = input(\"Учитывать регистр? (да/нет): \")\n",
    "\n",
    "if sensitive.lower() == \"нет\":\n",
    "    text = text.lower()\n",
    "    pattern = pattern.lower()\n",
    "\n",
    "start = t.now()\n",
    "positions = boyer_moore_search(text, pattern)\n",
    "elapsed = t.now() - start\n",
    "\n",
    "if positions:\n",
    "    print(f\"Подстрока найдена в позициях: {positions}\")\n",
    "else:\n",
    "    print(\"Подстрока не найдена.\")\n",
    "print(f\"Время выполнения: {elapsed.total_seconds():.8f} сек\")"
   ]
  },
  {
   "cell_type": "markdown",
   "id": "hybrid-memorial",
   "metadata": {
    "id": "hybrid-memorial"
   },
   "source": [
    "### Задание №2\n",
    "Написать программу, определяющую, является ли данное\n",
    "расположение «решаемым», то есть можно ли из него за конечное число\n",
    "шагов перейти к правильному. Если это возможно, то необходимо найти хотя\n",
    "бы одно решение - последовательность движений, после которой числа будут\n",
    "расположены в правильном порядке.\n",
    "#### Входные данные: массив чисел, представляющий собой расстановку в\n",
    "Порядке «слева направо, сверху вниз». Число 0 обозначает пустое поле.\n",
    "Например, массив [1, 2, 3, 4, 5, 6, 7, 8, 9, 10, 11, 12, 13, 14, 15, 0] представляет\n",
    "собой «решенную» позицию элементов.\n",
    "#### Выходные данные: если решения нет, то функция должна вернуть\n",
    "Пустой массив []. Если решение есть, то необходимо представить решение —\n",
    "для каждого шага записывается номер передвигаемого на данном шаге\n",
    "элемента. "
   ]
  },
  {
   "cell_type": "code",
   "execution_count": null,
   "id": "eleven-generic",
   "metadata": {
    "id": "eleven-generic"
   },
   "outputs": [],
   "source": [
    "from collections import deque\n",
    "\n",
    "# Проверка на решаемость\n",
    "def is_solvable(puzzle):\n",
    "    inv_count = 0\n",
    "    for i in range(len(puzzle)):\n",
    "        for j in range(i + 1, len(puzzle)):\n",
    "            if puzzle[i] != 0 and puzzle[j] != 0 and puzzle[i] > puzzle[j]:\n",
    "                inv_count += 1\n",
    "    row_from_bottom = 3 - (puzzle.index(0) // 4)\n",
    "    return (inv_count + row_from_bottom) % 2 == 0\n",
    "\n",
    "# Получаем все возможные ходы\n",
    "def get_neighbors(state):\n",
    "    neighbors = []\n",
    "    zero_index = state.index(0)\n",
    "    row, col = divmod(zero_index, 4)\n",
    "    directions = [(-1, 0), (1, 0), (0, -1), (0, 1)]  # вверх, вниз, влево, вправо\n",
    "\n",
    "    for dr, dc in directions:\n",
    "        new_row, new_col = row + dr, col + dc\n",
    "        if 0 <= new_row < 4 and 0 <= new_col < 4:\n",
    "            new_index = new_row * 4 + new_col\n",
    "            new_state = list(state)\n",
    "            new_state[zero_index], new_state[new_index] = new_state[new_index], new_state[zero_index]\n",
    "            neighbors.append((tuple(new_state), new_state[zero_index]))  # Состояние и фишка, которую двигали\n",
    "    return neighbors\n",
    "\n",
    "# Решение через BFS\n",
    "def solve(puzzle):\n",
    "    if not is_solvable(puzzle):\n",
    "        return []\n",
    "\n",
    "    start = tuple(puzzle)\n",
    "    goal = tuple(range(1, 16)) + (0,)\n",
    "    queue = deque([(start, [])])  # Очередь для BFS\n",
    "    visited = set()\n",
    "\n",
    "    while queue:\n",
    "        current, path = queue.popleft()\n",
    "\n",
    "        if current == goal:\n",
    "            return path  # Возвращаем путь, как только нашли решение\n",
    "\n",
    "        if current in visited:\n",
    "            continue\n",
    "        visited.add(current)\n",
    "\n",
    "        for neighbor, moved_tile in get_neighbors(current):\n",
    "            if neighbor not in visited:\n",
    "                queue.append((neighbor, path + [moved_tile]))\n",
    "\n",
    "    return []\n",
    "\n",
    "# Ввод и запуск программы\n",
    "puzzle_input = input(\"Введите 16 чисел (от 0 до 15), разделённых пробелами:\\n\")\n",
    "puzzle = list(map(int, puzzle_input.strip().split()))\n",
    "\n",
    "moves = solve(puzzle)\n",
    "\n",
    "if moves:\n",
    "    print(\"\\nРешение найдено!\")\n",
    "    print(\"Последовательность движений:\", moves)\n",
    "else:\n",
    "    print(\"\\nРешения нет.\")"
   ]
  },
  {
   "cell_type": "markdown",
   "id": "arbitrary-amazon",
   "metadata": {
    "id": "arbitrary-amazon"
   },
   "source": [
    "### Вывод"
   ]
  },
  {
   "cell_type": "markdown",
   "id": "71bc58bf",
   "metadata": {
    "id": "71bc58bf"
   },
   "source": []
  }
 ],
 "metadata": {
  "colab": {
   "provenance": []
  },
  "kernelspec": {
   "display_name": "Python 3",
   "language": "python",
   "name": "python3"
  },
  "language_info": {
   "codemirror_mode": {
    "name": "ipython",
    "version": 3
   },
   "file_extension": ".py",
   "mimetype": "text/x-python",
   "name": "python",
   "nbconvert_exporter": "python",
   "pygments_lexer": "ipython3",
   "version": "3.13.2"
  }
 },
 "nbformat": 4,
 "nbformat_minor": 5
}
