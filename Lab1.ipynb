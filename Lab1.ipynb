{
 "cells": [
  {
   "cell_type": "markdown",
   "id": "fifteen-sailing",
   "metadata": {
    "id": "fifteen-sailing"
   },
   "source": [
    "# Лабораторная работа №1\n",
    "## Выполнил студент группы бфи2302 Власов Матвей"
   ]
  },
  {
   "cell_type": "markdown",
   "id": "particular-syndicate",
   "metadata": {
    "id": "particular-syndicate"
   },
   "source": [
    "### Оглавление\n",
    "1. [Задание 1](#Задание-№1)\n",
    "2. [Задание 2](#Задание-№2)\n",
    "3. [Задание 3](#Задание-№3)\n",
    "4. [Вывод](#Вывод)"
   ]
  },
  {
   "cell_type": "markdown",
   "id": "arctic-stocks",
   "metadata": {
    "id": "arctic-stocks"
   },
   "source": [
    "### Задание №1\n",
    "<i> Вызвать функцию print() и передать туда строку Hello, World! </i>"
   ]
  },
  {
   "cell_type": "code",
   "execution_count": 2,
   "id": "caring-truck",
   "metadata": {
    "id": "caring-truck",
    "scrolled": true
   },
   "outputs": [
    {
     "name": "stdout",
     "output_type": "stream",
     "text": [
      "Hello, world!\n"
     ]
    }
   ],
   "source": [
    "print(\"Hello, world!\")"
   ]
  },
  {
   "cell_type": "markdown",
   "id": "maritime-conversation",
   "metadata": {
    "id": "maritime-conversation"
   },
   "source": [
    "### Задание №2\n",
    "Написать генератор случайных матриц(многомерных), который принимает\n",
    "опциональные параметры <b>m</b>, <b>n</b>, <b>min_limit</b>, <b>max_limit</b>, где <b>m</b> и <b>n</b> указывают размер\n",
    "матрицы, а <b>min_lim</b> и <b>max_lim</b> - минимальное и максимальное значение для\n",
    "генерируемого числа."
   ]
  },
  {
   "cell_type": "code",
   "execution_count": 3,
   "id": "built-contact",
   "metadata": {
    "id": "built-contact"
   },
   "outputs": [],
   "source": [
    "import random\n",
    "import time\n",
    "def create_mat(m,n,min_lim, max_lim):\n",
    "    a=[]\n",
    "    for i in range(m):\n",
    "        b=[]\n",
    "        for j in range(n):\n",
    "            b.append(random.randint(min_lim, max_lim))\n",
    "        a.append(b)\n",
    "    return a"
   ]
  },
  {
   "cell_type": "code",
   "execution_count": 4,
   "id": "alert-charm",
   "metadata": {
    "id": "alert-charm",
    "outputId": "c95dd9e7-d076-4718-b6fb-25f2e6bc03b9"
   },
   "outputs": [],
   "source": [
    "\n",
    "user_m = int(input())\n",
    "user_n = int(input())\n",
    "user_min_limit = int(input())\n",
    "user_max_limit = int(input())\n",
    "matr = create_mat(user_m,user_n, user_min_limit, user_max_limit)\n",
    "\n",
    "\n"
   ]
  },
  {
   "cell_type": "markdown",
   "id": "catholic-roots",
   "metadata": {
    "id": "catholic-roots"
   },
   "source": [
    "### Задание №3\n",
    "Реализовать методы сортировки строк числовой матрицы в соответствии с\n",
    "заданием. Оценить время работы каждого алгоритма сортировки и сравнить его со\n",
    "временем стандартной функции сортировки. Испытания проводить на сгенерированных\n",
    "матрицах."
   ]
  },
  {
   "cell_type": "code",
   "execution_count": 5,
   "id": "opposed-creature",
   "metadata": {
    "id": "opposed-creature"
   },
   "outputs": [],
   "source": [
    "import copy\n",
    "import math"
   ]
  },
  {
   "cell_type": "code",
   "execution_count": 6,
   "id": "cleared-anniversary",
   "metadata": {
    "id": "cleared-anniversary",
    "outputId": "b7c76c60-4acb-4c14-9bfb-d4f8d71093a1"
   },
   "outputs": [
    {
     "name": "stdout",
     "output_type": "stream",
     "text": [
      "--- 7394 ms ---\n"
     ]
    }
   ],
   "source": [
    "start_time = time.time()\n",
    "# Сортировка выбором.\n",
    "# Берётся срез массива, в котором минимальный элемент переносят в самый левый угол,\n",
    "# после чего срез уменьшается и цикл повторяется.\n",
    "def selection_sorting_method(matr):\n",
    "    for m in matr:\n",
    "        for i in range(len(m)-1):\n",
    "            min = i\n",
    "            for j in  range(i+1, len(m)):\n",
    "                if m[j] < m[min]:\n",
    "                    min = j\n",
    "            m[i], m[min] = m[min], m[i]\n",
    "\n",
    "copy_matr = copy.deepcopy(matr)\n",
    "selection_sorting_method(copy_matr)\n",
    "\n",
    "\n",
    "\n",
    "\n",
    "            \n",
    "\n",
    "\n",
    "print(\"--- {0} ms ---\".format(round((time.time() - start_time)*1000)))\n",
    "        \n",
    "\n"
   ]
  },
  {
   "cell_type": "code",
   "execution_count": 7,
   "id": "roman-silly",
   "metadata": {
    "id": "roman-silly",
    "outputId": "84666b71-fb68-4c07-d27d-e716af29fcbb",
    "scrolled": true
   },
   "outputs": [
    {
     "name": "stdout",
     "output_type": "stream",
     "text": [
      "--- 9356 ms ---\n"
     ]
    }
   ],
   "source": [
    "# Сортировка вставкой.\n",
    "start_time = time.time()\n",
    "\n",
    "def insertion_sorting_method(matr):\n",
    "    for m in matr:\n",
    "        for i in range(len(m)-1):\n",
    "            j=i+1\n",
    "            while m[i]>m[j] and i >= 0:\n",
    "                m[i],m[j]=m[j],m[i]\n",
    "                j-=1\n",
    "                i-=1\n",
    "\n",
    "copy_matr = copy.deepcopy(matr)\n",
    "\n",
    "insertion_sorting_method(copy_matr)\n",
    "\n",
    "\n",
    "\n",
    "print(\"--- {0} ms ---\".format(round((time.time() - start_time)*1000)))"
   ]
  },
  {
   "cell_type": "code",
   "execution_count": 8,
   "id": "vital-implementation",
   "metadata": {
    "id": "vital-implementation",
    "outputId": "7b648bf5-37a5-4d47-926d-b799f7a23be2"
   },
   "outputs": [
    {
     "name": "stdout",
     "output_type": "stream",
     "text": [
      "--- 15023 ms ---\n"
     ]
    }
   ],
   "source": [
    "# Сортировка обменом. || Сортировка пузырьком.\n",
    "start_time = time.time()\n",
    "def bubble_sorting_method(matr):\n",
    "    for m in matr:\n",
    "        for i in range(len(m)-1):\n",
    "            for j in range(len(m)-1-i):\n",
    "                if m[j]>m[j+1]:\n",
    "                    m[j],m[j+1]=m[j+1], m[j]\n",
    "                \n",
    "\n",
    "copy_matr = copy.deepcopy(matr)\n",
    "\n",
    "bubble_sorting_method(copy_matr)\n",
    "\n",
    "\n",
    "print(\"--- {0} ms ---\".format(round((time.time() - start_time)*1000)))"
   ]
  },
  {
   "cell_type": "code",
   "execution_count": 9,
   "id": "veterinary-glory",
   "metadata": {
    "id": "veterinary-glory",
    "outputId": "9cc2a9ff-ec7a-43de-e4a8-47945d030986"
   },
   "outputs": [
    {
     "name": "stdout",
     "output_type": "stream",
     "text": [
      "--- 1097 ms ---\n"
     ]
    }
   ],
   "source": [
    "# Сортировка Шелла.\n",
    "start_time = time.time()\n",
    "def shell_sorting_method(matr):\n",
    "    \n",
    "    for m in matr:\n",
    "        gap = len(m) // 2  \n",
    "        while gap > 0:\n",
    "            for i in range(gap, len(m)):\n",
    "                while i>=gap and m[i]<m[i-gap]:\n",
    "                    m[i],m[i-gap] = m[i-gap],m[i]\n",
    "                    i-=gap\n",
    "\n",
    "            gap//=2\n",
    "\n",
    "\n",
    "\n",
    "\n",
    "copy_matr = copy.deepcopy(matr)\n",
    "shell_sorting_method(copy_matr)\n",
    "\n",
    "print(\"--- {0} ms ---\".format(round((time.time() - start_time)*1000)))"
   ]
  },
  {
   "cell_type": "code",
   "execution_count": 9,
   "id": "correct-chaos",
   "metadata": {
    "id": "correct-chaos",
    "outputId": "f4d9aef1-8a2f-46a0-def0-4c9e049f5c77"
   },
   "outputs": [
    {
     "name": "stdout",
     "output_type": "stream",
     "text": [
      "--- 621 ms ---\n"
     ]
    }
   ],
   "source": [
    "# Быстрая сортировка.\n",
    "start_time = time.time()\n",
    "def quick_sorting_method(matr):\n",
    "    def quick_sort(m):\n",
    "        if len(m) <=1:\n",
    "            return m\n",
    "        privot=m[len(m)//2]\n",
    "        left = [_ for _ in m if _ < privot]\n",
    "        midle = [_ for _ in m if _ == privot]\n",
    "        right = [_ for _ in m if _ > privot]\n",
    "        return quick_sort(left) + midle + quick_sort(right)\n",
    "    for i in range(len(matr)):\n",
    "        matr[i]=quick_sort(matr[i])\n",
    "copy_matr = copy.deepcopy(matr)\n",
    "quick_sorting_method(copy_matr)\n",
    "\n",
    "print(\"--- {0} ms ---\".format(round((time.time() - start_time)*1000)))\n"
   ]
  },
  {
   "cell_type": "code",
   "execution_count": 10,
   "id": "french-czech",
   "metadata": {
    "colab": {
     "base_uri": "https://localhost:8080/",
     "height": 217
    },
    "executionInfo": {
     "elapsed": 433,
     "status": "error",
     "timestamp": 1645638345253,
     "user": {
      "displayName": "Sergey Simonov",
      "photoUrl": "https://lh3.googleusercontent.com/a-/AOh14GhQdeIfzzsg8bfb7DLHaLzEFH8Ebg2FyuaL9YoQyA=s64",
      "userId": "14094206399671235086"
     },
     "user_tz": -180
    },
    "id": "french-czech",
    "outputId": "7e38b779-8bbf-4955-c3ad-2a6be0ee386a"
   },
   "outputs": [
    {
     "name": "stdout",
     "output_type": "stream",
     "text": [
      "--- 1697 ms ---\n"
     ]
    }
   ],
   "source": [
    "# Турнирная сортировка.\n",
    "start_time = time.time()\n",
    "\n",
    "\n",
    "def foo(matr):\n",
    "    def heap_sorted_method(m):\n",
    "        def heapify(m, n, i):\n",
    "            largest = i \n",
    "            left = 2 * i + 1 \n",
    "            right = 2 * i + 2  \n",
    "            if left < n and m[left] > m[largest]:\n",
    "                largest = left\n",
    "            if right < n and m[right] > m[largest]:\n",
    "                largest = right\n",
    "            if largest != i:\n",
    "                m[i], m[largest] = m[largest], m[i]  \n",
    "                heapify(m, n, largest)\n",
    "        n = len(m) \n",
    "        for i in range(n // 2 - 1, -1, -1):\n",
    "            heapify(m, n, i)\n",
    "        for i in range(n - 1, 0, -1):\n",
    "            m[0], m[i] = m[i], m[0] \n",
    "            heapify(m, i, 0)\n",
    "    for i in range(len(matr)):\n",
    "        heap_sorted_method(matr[i])\n",
    "        \n",
    "    \n",
    "copy_matr = copy.deepcopy(matr)\n",
    "foo(copy_matr)\n",
    "\n",
    "\n",
    "print(\"--- {0} ms ---\".format(round((time.time() - start_time)*1000)))"
   ]
  },
  {
   "cell_type": "markdown",
   "id": "rental-jerusalem",
   "metadata": {
    "id": "rental-jerusalem"
   },
   "source": [
    "### Вывод\n"
   ]
  },
  {
   "cell_type": "markdown",
   "id": "9d108a0a",
   "metadata": {
    "id": "9d108a0a"
   },
   "source": []
  }
 ],
 "metadata": {
  "colab": {
   "provenance": []
  },
  "kernelspec": {
   "display_name": "Python 3",
   "language": "python",
   "name": "python3"
  },
  "language_info": {
   "codemirror_mode": {
    "name": "ipython",
    "version": 3
   },
   "file_extension": ".py",
   "mimetype": "text/x-python",
   "name": "python",
   "nbconvert_exporter": "python",
   "pygments_lexer": "ipython3",
   "version": "3.12.3"
  }
 },
 "nbformat": 4,
 "nbformat_minor": 5
}
